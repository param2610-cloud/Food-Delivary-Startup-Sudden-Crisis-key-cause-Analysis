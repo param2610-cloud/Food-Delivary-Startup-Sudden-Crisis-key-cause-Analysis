{
 "cells": [
  {
   "cell_type": "code",
   "execution_count": 25,
   "id": "0af6f14b",
   "metadata": {},
   "outputs": [],
   "source": [
    "import pandas as pd\n",
    "import numpy as np\n",
    "from pathlib import Path\n",
    "import warnings\n",
    "warnings.filterwarnings('ignore')\n",
    "\n",
    "DATA_DIR = Path('/home/parambrata-ghosh/Development/Personal/Projects/Food_Delivery_Startup/input/RPC_18_Datasets')"
   ]
  },
  {
   "cell_type": "markdown",
   "id": "7e820db0",
   "metadata": {},
   "source": [
    "## Setup"
   ]
  },
  {
   "cell_type": "markdown",
   "id": "2af6ed1a",
   "metadata": {},
   "source": [
    "# Data Cleaning\n",
    "\n",
    "Clean and prepare datasets for analysis."
   ]
  },
  {
   "cell_type": "code",
   "execution_count": 26,
   "id": "a0de52cb",
   "metadata": {},
   "outputs": [
    {
     "name": "stdout",
     "output_type": "stream",
     "text": [
      "Loaded 107,776 customers, 19,995 restaurants, 15,000 delivery partners\n",
      "Loaded 149,166 orders, 68,842 ratings\n"
     ]
    }
   ],
   "source": [
    "# Load dimension tables\n",
    "df_customer = pd.read_csv(DATA_DIR / 'dim_customer.csv')\n",
    "df_delivery_partner = pd.read_csv(DATA_DIR / 'dim_delivery_partner_.csv')\n",
    "df_menu_item = pd.read_csv(DATA_DIR / 'dim_menu_item.csv')\n",
    "df_restaurant = pd.read_csv(DATA_DIR / 'dim_restaurant.csv')\n",
    "\n",
    "# Load fact tables\n",
    "df_orders = pd.read_csv(DATA_DIR / 'fact_orders.csv')\n",
    "df_order_items = pd.read_csv(DATA_DIR / 'fact_order_items.csv')\n",
    "df_delivery_performance = pd.read_csv(DATA_DIR / 'fact_delivery_performance.csv')\n",
    "df_ratings = pd.read_csv(DATA_DIR / 'fact_ratings.csv')\n",
    "\n",
    "print(f\"Loaded {df_customer.shape[0]:,} customers, {df_restaurant.shape[0]:,} restaurants, {df_delivery_partner.shape[0]:,} delivery partners\")\n",
    "print(f\"Loaded {df_orders.shape[0]:,} orders, {df_ratings.shape[0]:,} ratings\")"
   ]
  },
  {
   "cell_type": "markdown",
   "id": "d7c99ad6",
   "metadata": {},
   "source": [
    "## Load Data"
   ]
  },
  {
   "cell_type": "code",
   "execution_count": null,
   "id": "8710c07c",
   "metadata": {},
   "outputs": [
    {
     "name": "stdout",
     "output_type": "stream",
     "text": [
      "Before cleaning: 68,842 ratings\n",
      "After removing nulls: 68,825 ratings\n",
      "After removing duplicates: 68,825 ratings\n"
     ]
    }
   ],
   "source": [
    "print(f\"Before cleaning: {len(df_ratings):,} ratings\")\n",
    "\n",
    "# remove null values\n",
    "df_ratings_clean = df_ratings.dropna()\n",
    "print(f\"After removing nulls: {len(df_ratings_clean):,} ratings\")\n",
    "\n",
    "# remove duplicates\n",
    "df_ratings_clean = df_ratings_clean.drop_duplicates()\n",
    "print(f\"After removing duplicates: {len(df_ratings_clean):,} ratings\")\n",
    "\n",
    "# update original dataframe\n",
    "df_ratings = df_ratings_clean"
   ]
  },
  {
   "cell_type": "markdown",
   "id": "1f6f3b8d",
   "metadata": {},
   "source": [
    "## Clean Ratings Table"
   ]
  },
  {
   "cell_type": "code",
   "execution_count": 28,
   "id": "da7670bd",
   "metadata": {},
   "outputs": [
    {
     "name": "stdout",
     "output_type": "stream",
     "text": [
      "Missing delivery partners: 5,635\n",
      "Cancelled orders: 5,635\n",
      "Non-cancelled orders: 0\n"
     ]
    }
   ],
   "source": [
    "missing_dp_orders = df_orders[df_orders['delivery_partner_id'].isna()]\n",
    "print(f\"Missing delivery partners: {len(missing_dp_orders):,}\")\n",
    "print(f\"Cancelled orders: {(missing_dp_orders['is_cancelled'] == 'Y').sum():,}\")\n",
    "print(f\"Non-cancelled orders: {(missing_dp_orders['is_cancelled'] == 'N').sum():,}\")"
   ]
  },
  {
   "cell_type": "markdown",
   "id": "908c8258",
   "metadata": {},
   "source": [
    "## Investigate Missing Delivery Partners"
   ]
  },
  {
   "cell_type": "code",
   "execution_count": 29,
   "id": "dd5d2f68",
   "metadata": {},
   "outputs": [
    {
     "name": "stdout",
     "output_type": "stream",
     "text": [
      "Date columns converted successfully\n"
     ]
    }
   ],
   "source": [
    "df_orders['order_timestamp'] = pd.to_datetime(df_orders['order_timestamp'])\n",
    "df_customer['signup_date'] = pd.to_datetime(df_customer['signup_date'], format='%d-%m-%Y')\n",
    "df_ratings['review_timestamp'] = pd.to_datetime(df_ratings['review_timestamp'], format='%d-%m-%Y %H:%M')\n",
    "\n",
    "print(\"Date columns converted successfully\")"
   ]
  },
  {
   "cell_type": "markdown",
   "id": "d3d83529",
   "metadata": {},
   "source": [
    "## Convert Date Columns"
   ]
  },
  {
   "cell_type": "code",
   "execution_count": 30,
   "id": "cc43fcf3",
   "metadata": {},
   "outputs": [
    {
     "data": {
      "text/html": [
       "<div>\n",
       "<style scoped>\n",
       "    .dataframe tbody tr th:only-of-type {\n",
       "        vertical-align: middle;\n",
       "    }\n",
       "\n",
       "    .dataframe tbody tr th {\n",
       "        vertical-align: top;\n",
       "    }\n",
       "\n",
       "    .dataframe thead th {\n",
       "        text-align: right;\n",
       "    }\n",
       "</style>\n",
       "<table border=\"1\" class=\"dataframe\">\n",
       "  <thead>\n",
       "    <tr style=\"text-align: right;\">\n",
       "      <th></th>\n",
       "      <th>month</th>\n",
       "      <th>total_orders</th>\n",
       "      <th>cancelled_orders</th>\n",
       "      <th>monthly_change</th>\n",
       "    </tr>\n",
       "  </thead>\n",
       "  <tbody>\n",
       "    <tr>\n",
       "      <th>0</th>\n",
       "      <td>2025-01</td>\n",
       "      <td>23539</td>\n",
       "      <td>1463</td>\n",
       "      <td>NaN</td>\n",
       "    </tr>\n",
       "    <tr>\n",
       "      <th>1</th>\n",
       "      <td>2025-02</td>\n",
       "      <td>22667</td>\n",
       "      <td>1395</td>\n",
       "      <td>-872.0</td>\n",
       "    </tr>\n",
       "    <tr>\n",
       "      <th>2</th>\n",
       "      <td>2025-03</td>\n",
       "      <td>23543</td>\n",
       "      <td>1410</td>\n",
       "      <td>876.0</td>\n",
       "    </tr>\n",
       "    <tr>\n",
       "      <th>3</th>\n",
       "      <td>2025-04</td>\n",
       "      <td>21466</td>\n",
       "      <td>1256</td>\n",
       "      <td>-2077.0</td>\n",
       "    </tr>\n",
       "    <tr>\n",
       "      <th>4</th>\n",
       "      <td>2025-05</td>\n",
       "      <td>22591</td>\n",
       "      <td>1370</td>\n",
       "      <td>1125.0</td>\n",
       "    </tr>\n",
       "    <tr>\n",
       "      <th>5</th>\n",
       "      <td>2025-06</td>\n",
       "      <td>9293</td>\n",
       "      <td>1074</td>\n",
       "      <td>-13298.0</td>\n",
       "    </tr>\n",
       "    <tr>\n",
       "      <th>6</th>\n",
       "      <td>2025-07</td>\n",
       "      <td>8818</td>\n",
       "      <td>1050</td>\n",
       "      <td>-475.0</td>\n",
       "    </tr>\n",
       "    <tr>\n",
       "      <th>7</th>\n",
       "      <td>2025-08</td>\n",
       "      <td>8555</td>\n",
       "      <td>1070</td>\n",
       "      <td>-263.0</td>\n",
       "    </tr>\n",
       "    <tr>\n",
       "      <th>8</th>\n",
       "      <td>2025-09</td>\n",
       "      <td>8694</td>\n",
       "      <td>1024</td>\n",
       "      <td>139.0</td>\n",
       "    </tr>\n",
       "  </tbody>\n",
       "</table>\n",
       "</div>"
      ],
      "text/plain": [
       "     month  total_orders  cancelled_orders  monthly_change\n",
       "0  2025-01         23539              1463             NaN\n",
       "1  2025-02         22667              1395          -872.0\n",
       "2  2025-03         23543              1410           876.0\n",
       "3  2025-04         21466              1256         -2077.0\n",
       "4  2025-05         22591              1370          1125.0\n",
       "5  2025-06          9293              1074        -13298.0\n",
       "6  2025-07          8818              1050          -475.0\n",
       "7  2025-08          8555              1070          -263.0\n",
       "8  2025-09          8694              1024           139.0"
      ]
     },
     "execution_count": 30,
     "metadata": {},
     "output_type": "execute_result"
    }
   ],
   "source": [
    "df_orders['month'] = df_orders['order_timestamp'].dt.to_period('M').astype(str)\n",
    "\n",
    "monthly = (\n",
    "    df_orders.groupby('month', as_index=False)\n",
    "    .agg(\n",
    "        total_orders=('order_timestamp', 'count'),\n",
    "        cancelled_orders=('is_cancelled', lambda x: (x == 'Y').sum())\n",
    "    )\n",
    ")\n",
    "monthly['monthly_change'] = monthly['total_orders'].diff()\n",
    "monthly = monthly.sort_values('month')\n",
    "\n",
    "monthly"
   ]
  },
  {
   "cell_type": "markdown",
   "id": "ecaa5f46",
   "metadata": {},
   "source": [
    "## Monthly Order Trends"
   ]
  },
  {
   "cell_type": "code",
   "execution_count": null,
   "id": "b862354b",
   "metadata": {},
   "outputs": [
    {
     "name": "stdout",
     "output_type": "stream",
     "text": [
      "Total non-cancelled orders: 138,054\n"
     ]
    }
   ],
   "source": [
    "# merge orders with customer city\n",
    "df_orders_city = df_orders.merge(df_customer[['customer_id', 'city']], on='customer_id', how='inner')\n",
    "\n",
    "# filter non cancelled orders\n",
    "df_orders_city = df_orders_city[df_orders_city['is_cancelled'] == 'N']\n",
    "\n",
    "# add month column\n",
    "df_orders_city['month'] = df_orders_city['order_timestamp'].dt.to_period('M').astype(str)\n",
    "\n",
    "print(f\"Total non-cancelled orders: {len(df_orders_city):,}\")"
   ]
  },
  {
   "cell_type": "markdown",
   "id": "e81cdcba",
   "metadata": {},
   "source": [
    "## City-wise Order Analysis"
   ]
  },
  {
   "cell_type": "code",
   "execution_count": 32,
   "id": "e2d6fcec",
   "metadata": {},
   "outputs": [
    {
     "data": {
      "text/html": [
       "<div>\n",
       "<style scoped>\n",
       "    .dataframe tbody tr th:only-of-type {\n",
       "        vertical-align: middle;\n",
       "    }\n",
       "\n",
       "    .dataframe tbody tr th {\n",
       "        vertical-align: top;\n",
       "    }\n",
       "\n",
       "    .dataframe thead th {\n",
       "        text-align: right;\n",
       "    }\n",
       "</style>\n",
       "<table border=\"1\" class=\"dataframe\">\n",
       "  <thead>\n",
       "    <tr style=\"text-align: right;\">\n",
       "      <th></th>\n",
       "      <th>city</th>\n",
       "      <th>month</th>\n",
       "      <th>orders</th>\n",
       "    </tr>\n",
       "  </thead>\n",
       "  <tbody>\n",
       "    <tr>\n",
       "      <th>0</th>\n",
       "      <td>Ahmedabad</td>\n",
       "      <td>2025-01</td>\n",
       "      <td>1570</td>\n",
       "    </tr>\n",
       "    <tr>\n",
       "      <th>1</th>\n",
       "      <td>Ahmedabad</td>\n",
       "      <td>2025-02</td>\n",
       "      <td>1458</td>\n",
       "    </tr>\n",
       "    <tr>\n",
       "      <th>2</th>\n",
       "      <td>Ahmedabad</td>\n",
       "      <td>2025-03</td>\n",
       "      <td>1559</td>\n",
       "    </tr>\n",
       "    <tr>\n",
       "      <th>3</th>\n",
       "      <td>Ahmedabad</td>\n",
       "      <td>2025-04</td>\n",
       "      <td>1367</td>\n",
       "    </tr>\n",
       "    <tr>\n",
       "      <th>4</th>\n",
       "      <td>Ahmedabad</td>\n",
       "      <td>2025-05</td>\n",
       "      <td>1458</td>\n",
       "    </tr>\n",
       "    <tr>\n",
       "      <th>5</th>\n",
       "      <td>Ahmedabad</td>\n",
       "      <td>2025-06</td>\n",
       "      <td>553</td>\n",
       "    </tr>\n",
       "    <tr>\n",
       "      <th>6</th>\n",
       "      <td>Ahmedabad</td>\n",
       "      <td>2025-07</td>\n",
       "      <td>564</td>\n",
       "    </tr>\n",
       "    <tr>\n",
       "      <th>7</th>\n",
       "      <td>Ahmedabad</td>\n",
       "      <td>2025-08</td>\n",
       "      <td>488</td>\n",
       "    </tr>\n",
       "    <tr>\n",
       "      <th>8</th>\n",
       "      <td>Ahmedabad</td>\n",
       "      <td>2025-09</td>\n",
       "      <td>545</td>\n",
       "    </tr>\n",
       "    <tr>\n",
       "      <th>9</th>\n",
       "      <td>Bengaluru</td>\n",
       "      <td>2025-01</td>\n",
       "      <td>6104</td>\n",
       "    </tr>\n",
       "  </tbody>\n",
       "</table>\n",
       "</div>"
      ],
      "text/plain": [
       "        city    month  orders\n",
       "0  Ahmedabad  2025-01    1570\n",
       "1  Ahmedabad  2025-02    1458\n",
       "2  Ahmedabad  2025-03    1559\n",
       "3  Ahmedabad  2025-04    1367\n",
       "4  Ahmedabad  2025-05    1458\n",
       "5  Ahmedabad  2025-06     553\n",
       "6  Ahmedabad  2025-07     564\n",
       "7  Ahmedabad  2025-08     488\n",
       "8  Ahmedabad  2025-09     545\n",
       "9  Bengaluru  2025-01    6104"
      ]
     },
     "execution_count": 32,
     "metadata": {},
     "output_type": "execute_result"
    }
   ],
   "source": [
    "monthly_city_orders = (\n",
    "    df_orders_city.groupby(['city', 'month'], as_index=False)\n",
    "    .agg(orders=('order_id', 'count'))\n",
    ")\n",
    "\n",
    "monthly_city_orders.head(10)"
   ]
  },
  {
   "cell_type": "code",
   "execution_count": 33,
   "id": "c2f18c59",
   "metadata": {},
   "outputs": [],
   "source": [
    "pre_crisis_months = ['2025-01','2025-02','2025-03','2025-04','2025-05']\n",
    "crisis_months = ['2025-06','2025-07','2025-08','2025-09']\n"
   ]
  },
  {
   "cell_type": "markdown",
   "id": "d8790ebb",
   "metadata": {},
   "source": [
    "## Pre-Crisis vs Crisis Comparison"
   ]
  },
  {
   "cell_type": "code",
   "execution_count": 34,
   "id": "4c734c6a",
   "metadata": {},
   "outputs": [],
   "source": [
    "pre_crisis_months = ['2025-01', '2025-02', '2025-03', '2025-04', '2025-05']\n",
    "crisis_months = ['2025-06', '2025-07', '2025-08', '2025-09']\n",
    "\n",
    "summary = (\n",
    "    monthly_city_orders\n",
    "    .groupby('city')\n",
    "    .apply(lambda g: pd.Series({\n",
    "        'avg_pre_crisis': g.loc[g['month'].isin(pre_crisis_months), 'orders'].mean(),\n",
    "        'avg_crisis': g.loc[g['month'].isin(crisis_months), 'orders'].mean()\n",
    "    }), include_groups=False)\n",
    "    .reset_index()\n",
    ")"
   ]
  },
  {
   "cell_type": "code",
   "execution_count": 35,
   "id": "93400614",
   "metadata": {},
   "outputs": [],
   "source": [
    "summary['pct_change'] = (\n",
    "    (summary['avg_crisis'] - summary['avg_pre_crisis']) /\n",
    "     summary['avg_pre_crisis'] * 100\n",
    ")"
   ]
  },
  {
   "cell_type": "code",
   "execution_count": 36,
   "id": "1c2295bf",
   "metadata": {},
   "outputs": [
    {
     "data": {
      "text/html": [
       "<div>\n",
       "<style scoped>\n",
       "    .dataframe tbody tr th:only-of-type {\n",
       "        vertical-align: middle;\n",
       "    }\n",
       "\n",
       "    .dataframe tbody tr th {\n",
       "        vertical-align: top;\n",
       "    }\n",
       "\n",
       "    .dataframe thead th {\n",
       "        text-align: right;\n",
       "    }\n",
       "</style>\n",
       "<table border=\"1\" class=\"dataframe\">\n",
       "  <thead>\n",
       "    <tr style=\"text-align: right;\">\n",
       "      <th></th>\n",
       "      <th>city</th>\n",
       "      <th>avg_pre_crisis</th>\n",
       "      <th>avg_crisis</th>\n",
       "      <th>pct_change</th>\n",
       "    </tr>\n",
       "  </thead>\n",
       "  <tbody>\n",
       "    <tr>\n",
       "      <th>1</th>\n",
       "      <td>Bengaluru</td>\n",
       "      <td>6044.0</td>\n",
       "      <td>2160.50</td>\n",
       "      <td>-64.253805</td>\n",
       "    </tr>\n",
       "    <tr>\n",
       "      <th>6</th>\n",
       "      <td>Mumbai</td>\n",
       "      <td>3452.0</td>\n",
       "      <td>1238.25</td>\n",
       "      <td>-64.129490</td>\n",
       "    </tr>\n",
       "    <tr>\n",
       "      <th>5</th>\n",
       "      <td>Kolkata</td>\n",
       "      <td>1470.0</td>\n",
       "      <td>533.00</td>\n",
       "      <td>-63.741497</td>\n",
       "    </tr>\n",
       "    <tr>\n",
       "      <th>0</th>\n",
       "      <td>Ahmedabad</td>\n",
       "      <td>1482.4</td>\n",
       "      <td>537.50</td>\n",
       "      <td>-63.741230</td>\n",
       "    </tr>\n",
       "    <tr>\n",
       "      <th>7</th>\n",
       "      <td>Pune</td>\n",
       "      <td>1704.8</td>\n",
       "      <td>623.50</td>\n",
       "      <td>-63.426795</td>\n",
       "    </tr>\n",
       "    <tr>\n",
       "      <th>3</th>\n",
       "      <td>Delhi</td>\n",
       "      <td>2999.6</td>\n",
       "      <td>1101.50</td>\n",
       "      <td>-63.278437</td>\n",
       "    </tr>\n",
       "    <tr>\n",
       "      <th>4</th>\n",
       "      <td>Hyderabad</td>\n",
       "      <td>2096.2</td>\n",
       "      <td>773.00</td>\n",
       "      <td>-63.123748</td>\n",
       "    </tr>\n",
       "    <tr>\n",
       "      <th>2</th>\n",
       "      <td>Chennai</td>\n",
       "      <td>2133.4</td>\n",
       "      <td>818.25</td>\n",
       "      <td>-61.645730</td>\n",
       "    </tr>\n",
       "  </tbody>\n",
       "</table>\n",
       "</div>"
      ],
      "text/plain": [
       "        city  avg_pre_crisis  avg_crisis  pct_change\n",
       "1  Bengaluru          6044.0     2160.50  -64.253805\n",
       "6     Mumbai          3452.0     1238.25  -64.129490\n",
       "5    Kolkata          1470.0      533.00  -63.741497\n",
       "0  Ahmedabad          1482.4      537.50  -63.741230\n",
       "7       Pune          1704.8      623.50  -63.426795\n",
       "3      Delhi          2999.6     1101.50  -63.278437\n",
       "4  Hyderabad          2096.2      773.00  -63.123748\n",
       "2    Chennai          2133.4      818.25  -61.645730"
      ]
     },
     "execution_count": 36,
     "metadata": {},
     "output_type": "execute_result"
    }
   ],
   "source": [
    "summary['pct_change'] = (\n",
    "    (summary['avg_crisis'] - summary['avg_pre_crisis']) / summary['avg_pre_crisis'] * 100\n",
    ")\n",
    "\n",
    "summary = summary.sort_values('pct_change', ascending=True)\n",
    "summary"
   ]
  }
 ],
 "metadata": {
  "kernelspec": {
   "display_name": ".venv (3.12.3)",
   "language": "python",
   "name": "python3"
  },
  "language_info": {
   "codemirror_mode": {
    "name": "ipython",
    "version": 3
   },
   "file_extension": ".py",
   "mimetype": "text/x-python",
   "name": "python",
   "nbconvert_exporter": "python",
   "pygments_lexer": "ipython3",
   "version": "3.12.3"
  }
 },
 "nbformat": 4,
 "nbformat_minor": 5
}
