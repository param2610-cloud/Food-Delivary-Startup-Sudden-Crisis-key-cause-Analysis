{
 "cells": [
  {
   "cell_type": "markdown",
   "id": "b24b1353",
   "metadata": {},
   "source": [
    "# QuickBite Express - Data Exploration\n",
    "\n",
    "Comprehensive data quality checks and exploration of food delivery datasets."
   ]
  },
  {
   "cell_type": "markdown",
   "id": "c4bf6d7c",
   "metadata": {},
   "source": [
    "## Setup"
   ]
  },
  {
   "cell_type": "code",
   "execution_count": 23,
   "id": "47c32925",
   "metadata": {},
   "outputs": [],
   "source": [
    "import pandas as pd\n",
    "import numpy as np\n",
    "from pathlib import Path\n",
    "import warnings\n",
    "warnings.filterwarnings('ignore')\n",
    "\n",
    "DATA_DIR = Path('/home/parambrata-ghosh/Development/Personal/Projects/Food_Delivery_Startup/input/RPC_18_Datasets')"
   ]
  },
  {
   "cell_type": "markdown",
   "id": "743923bf",
   "metadata": {},
   "source": [
    "## Load Datasets"
   ]
  },
  {
   "cell_type": "code",
   "execution_count": 24,
   "id": "02e36baa",
   "metadata": {},
   "outputs": [
    {
     "name": "stdout",
     "output_type": "stream",
     "text": [
      "Loaded 107,776 customers, 19,995 restaurants, 15,000 delivery partners\n",
      "Loaded 149,166 orders, 68,842 ratings\n"
     ]
    }
   ],
   "source": [
    "# Load dimension tables\n",
    "df_customer = pd.read_csv(DATA_DIR / 'dim_customer.csv')\n",
    "df_delivery_partner = pd.read_csv(DATA_DIR / 'dim_delivery_partner_.csv')\n",
    "df_menu_item = pd.read_csv(DATA_DIR / 'dim_menu_item.csv')\n",
    "df_restaurant = pd.read_csv(DATA_DIR / 'dim_restaurant.csv')\n",
    "\n",
    "# Load fact tables\n",
    "df_orders = pd.read_csv(DATA_DIR / 'fact_orders.csv')\n",
    "df_order_items = pd.read_csv(DATA_DIR / 'fact_order_items.csv')\n",
    "df_delivery_performance = pd.read_csv(DATA_DIR / 'fact_delivery_performance.csv')\n",
    "df_ratings = pd.read_csv(DATA_DIR / 'fact_ratings.csv')\n",
    "\n",
    "print(f\"Loaded {df_customer.shape[0]:,} customers, {df_restaurant.shape[0]:,} restaurants, {df_delivery_partner.shape[0]:,} delivery partners\")\n",
    "print(f\"Loaded {df_orders.shape[0]:,} orders, {df_ratings.shape[0]:,} ratings\")"
   ]
  },
  {
   "cell_type": "markdown",
   "id": "b53cf6b9",
   "metadata": {},
   "source": [
    "## Data Structure"
   ]
  },
  {
   "cell_type": "code",
   "execution_count": 25,
   "id": "c172bcdc",
   "metadata": {},
   "outputs": [
    {
     "name": "stdout",
     "output_type": "stream",
     "text": [
      "\n",
      "CUSTOMER: 107,776 rows × 4 columns\n",
      "             Column   Type Null %\n",
      "        customer_id object   0.0%\n",
      "        signup_date object   0.0%\n",
      "               city object   0.0%\n",
      "acquisition_channel object   0.0%\n",
      "\n",
      "DELIVERY_PARTNER: 15,000 rows × 7 columns\n",
      "             Column    Type Null %\n",
      "delivery_partner_id  object   0.0%\n",
      "       partner_name  object   0.0%\n",
      "               city  object   0.0%\n",
      "       vehicle_type  object   0.0%\n",
      "    employment_type  object   0.0%\n",
      "         avg_rating float64   0.0%\n",
      "          is_active  object   0.0%\n",
      "\n",
      "MENU_ITEM: 342,671 rows × 6 columns\n",
      "       Column    Type Null %\n",
      " menu_item_id  object   0.0%\n",
      "restaurant_id  object   0.0%\n",
      "    item_name  object   0.0%\n",
      "     category  object   0.0%\n",
      "       is_veg  object   0.0%\n",
      "        price float64   0.0%\n",
      "\n",
      "RESTAURANT: 19,995 rows × 7 columns\n",
      "           Column   Type Null %\n",
      "    restaurant_id object   0.0%\n",
      "  restaurant_name object   0.0%\n",
      "             city object   0.0%\n",
      "     cuisine_type object   0.0%\n",
      "     partner_type object   0.0%\n",
      "avg_prep_time_min object   0.0%\n",
      "        is_active object   0.0%\n",
      "\n",
      "ORDERS: 149,166 rows × 11 columns\n",
      "             Column    Type Null %\n",
      "           order_id  object   0.0%\n",
      "        customer_id  object   0.0%\n",
      "      restaurant_id  object   0.0%\n",
      "delivery_partner_id  object   3.8%\n",
      "    order_timestamp  object   0.0%\n",
      "    subtotal_amount float64   0.0%\n",
      "    discount_amount float64   0.0%\n",
      "       delivery_fee float64   0.0%\n",
      "       total_amount float64   0.0%\n",
      "             is_cod  object   0.0%\n",
      "       is_cancelled  object   0.0%\n",
      "\n",
      "ORDER_ITEMS: 342,994 rows × 8 columns\n",
      "       Column    Type Null %\n",
      "     order_id  object   0.0%\n",
      "      item_id  object   0.0%\n",
      " menu_item_id  object   0.0%\n",
      "restaurant_id  object   0.0%\n",
      "     quantity   int64   0.0%\n",
      "   unit_price float64   0.0%\n",
      "item_discount float64   0.0%\n",
      "   line_total float64   0.0%\n",
      "\n",
      "DELIVERY_PERFORMANCE: 149,166 rows × 4 columns\n",
      "                     Column    Type Null %\n",
      "                   order_id  object   0.0%\n",
      "  actual_delivery_time_mins   int64   0.0%\n",
      "expected_delivery_time_mins   int64   0.0%\n",
      "                distance_km float64   0.0%\n",
      "\n",
      "RATINGS: 68,842 rows × 7 columns\n",
      "          Column    Type Null %\n",
      "        order_id  object   0.0%\n",
      "     customer_id  object   0.0%\n",
      "   restaurant_id  object   0.0%\n",
      "          rating float64   0.0%\n",
      "     review_text  object   0.0%\n",
      "review_timestamp  object   0.0%\n",
      " sentiment_score float64   0.0%\n"
     ]
    }
   ],
   "source": [
    "datasets = {\n",
    "    'customer': df_customer,\n",
    "    'delivery_partner': df_delivery_partner,\n",
    "    'menu_item': df_menu_item,\n",
    "    'restaurant': df_restaurant,\n",
    "    'orders': df_orders,\n",
    "    'order_items': df_order_items,\n",
    "    'delivery_performance': df_delivery_performance,\n",
    "    'ratings': df_ratings\n",
    "}\n",
    "\n",
    "for name, df in datasets.items():\n",
    "    print(f\"\\n{name.upper()}: {df.shape[0]:,} rows × {df.shape[1]} columns\")\n",
    "    \n",
    "    info_df = pd.DataFrame({\n",
    "        'Column': df.columns,\n",
    "        'Type': df.dtypes.values,\n",
    "        'Null %': [f\"{(df[col].isna().sum() / len(df) * 100):.1f}%\" for col in df.columns]\n",
    "    })\n",
    "    print(info_df.to_string(index=False))"
   ]
  },
  {
   "cell_type": "markdown",
   "id": "464d14d5",
   "metadata": {},
   "source": [
    "## Data Quality"
   ]
  },
  {
   "cell_type": "code",
   "execution_count": 26,
   "id": "c9c2ef0e",
   "metadata": {},
   "outputs": [
    {
     "name": "stdout",
     "output_type": "stream",
     "text": [
      "\n",
      "ORDERS:\n",
      "  Missing delivery_partner_id: 5,635 (3.8%)\n",
      "\n",
      "RATINGS:\n",
      "  Missing order_id: 17 (0.0%)\n",
      "  Missing customer_id: 17 (0.0%)\n",
      "  Missing restaurant_id: 17 (0.0%)\n",
      "  Missing rating: 17 (0.0%)\n",
      "  Missing review_text: 17 (0.0%)\n",
      "  Missing review_timestamp: 17 (0.0%)\n",
      "  Missing sentiment_score: 17 (0.0%)\n",
      "  Duplicates: 16\n"
     ]
    }
   ],
   "source": [
    "for name, df in datasets.items():\n",
    "    missing = df.isnull().sum()\n",
    "    missing = missing[missing > 0]\n",
    "    duplicates = df.duplicated().sum()\n",
    "    \n",
    "    if len(missing) > 0 or duplicates > 0:\n",
    "        print(f\"\\n{name.upper()}:\")\n",
    "        if len(missing) > 0:\n",
    "            for col, count in missing.items():\n",
    "                print(f\"  Missing {col}: {count:,} ({count/len(df)*100:.1f}%)\")\n",
    "        if duplicates > 0:\n",
    "            print(f\"  Duplicates: {duplicates:,}\")"
   ]
  },
  {
   "cell_type": "markdown",
   "id": "8dc1647c",
   "metadata": {},
   "source": [
    "## City Consistency"
   ]
  },
  {
   "cell_type": "code",
   "execution_count": 27,
   "id": "5bea1f6d",
   "metadata": {},
   "outputs": [
    {
     "name": "stdout",
     "output_type": "stream",
     "text": [
      "\n",
      "CUSTOMER:\n",
      "city\n",
      "Bengaluru    30281\n",
      "Mumbai       17317\n",
      "Delhi        15090\n",
      "Chennai      10823\n",
      "Hyderabad    10755\n",
      "Pune          8532\n",
      "Ahmedabad     7512\n",
      "Kolkata       7466\n",
      "\n",
      "RESTAURANT:\n",
      "city\n",
      "Bengaluru    4963\n",
      "Delhi        2966\n",
      "Mumbai       2963\n",
      "Hyderabad    2027\n",
      "Chennai      2021\n",
      "Kolkata      1835\n",
      "Ahmedabad    1630\n",
      "Pune         1590\n",
      "\n",
      "DELIVERY_PARTNER:\n",
      "city\n",
      "Bengaluru    3775\n",
      "Mumbai       2227\n",
      "Delhi        2207\n",
      "Chennai      1559\n",
      "Hyderabad    1445\n",
      "Kolkata      1382\n",
      "Ahmedabad    1212\n",
      "Pune         1193\n"
     ]
    }
   ],
   "source": [
    "city_tables = {\n",
    "    'customer': df_customer,\n",
    "    'restaurant': df_restaurant,\n",
    "    'delivery_partner': df_delivery_partner\n",
    "}\n",
    "\n",
    "for name, df in city_tables.items():\n",
    "    if 'city' in df.columns:\n",
    "        print(f\"\\n{name.upper()}:\")\n",
    "        print(df['city'].value_counts().to_string())"
   ]
  },
  {
   "cell_type": "markdown",
   "id": "8af191ca",
   "metadata": {},
   "source": [
    "## Time Period Analysis"
   ]
  },
  {
   "cell_type": "code",
   "execution_count": 28,
   "id": "5593ad55",
   "metadata": {},
   "outputs": [
    {
     "name": "stdout",
     "output_type": "stream",
     "text": [
      "Order Date Range: 2025-01-01 12:00:00 to 2025-09-30 22:59:00\n",
      "\n",
      "Monthly Orders:\n",
      "order_timestamp\n",
      "2025-01    23539\n",
      "2025-02    22667\n",
      "2025-03    23543\n",
      "2025-04    21466\n",
      "2025-05    22591\n",
      "2025-06     9293\n",
      "2025-07     8818\n",
      "2025-08     8555\n",
      "2025-09     8694\n",
      "Freq: M\n",
      "\n",
      "Pre-Crisis (Jan-May 2025): 113,806 orders\n",
      "Crisis (Jun-Sep 2025): 35,360 orders\n"
     ]
    }
   ],
   "source": [
    "df_orders['order_timestamp'] = pd.to_datetime(df_orders['order_timestamp'])\n",
    "df_orders['month'] = df_orders['order_timestamp'].dt.month\n",
    "df_orders['year'] = df_orders['order_timestamp'].dt.year\n",
    "\n",
    "print(\"Order Date Range:\", df_orders['order_timestamp'].min(), \"to\", df_orders['order_timestamp'].max())\n",
    "\n",
    "monthly_orders = df_orders.groupby([df_orders['order_timestamp'].dt.to_period('M')]).size()\n",
    "print(\"\\nMonthly Orders:\")\n",
    "print(monthly_orders.to_string())\n",
    "\n",
    "pre_crisis = df_orders[(df_orders['year'] == 2025) & (df_orders['month'].between(1, 5))]\n",
    "crisis = df_orders[(df_orders['year'] == 2025) & (df_orders['month'].between(6, 9))]\n",
    "\n",
    "print(f\"\\nPre-Crisis (Jan-May 2025): {len(pre_crisis):,} orders\")\n",
    "print(f\"Crisis (Jun-Sep 2025): {len(crisis):,} orders\")"
   ]
  },
  {
   "cell_type": "code",
   "execution_count": 29,
   "id": "227fbe40",
   "metadata": {},
   "outputs": [
    {
     "name": "stdout",
     "output_type": "stream",
     "text": [
      "Customer Signups: 2024-11-02 00:00:00 to 2025-09-30 00:00:00\n",
      "Ratings Period: 2025-01-01 14:03:00 to 2025-09-30 23:59:00\n"
     ]
    }
   ],
   "source": [
    "df_customer['signup_date'] = pd.to_datetime(df_customer['signup_date'], format='%d-%m-%Y')\n",
    "df_ratings['review_timestamp'] = pd.to_datetime(df_ratings['review_timestamp'], format='%d-%m-%Y %H:%M')\n",
    "\n",
    "print(\"Customer Signups:\", df_customer['signup_date'].min(), \"to\", df_customer['signup_date'].max())\n",
    "print(\"Ratings Period:\", df_ratings['review_timestamp'].min(), \"to\", df_ratings['review_timestamp'].max())"
   ]
  },
  {
   "cell_type": "markdown",
   "id": "5c35a4fe",
   "metadata": {},
   "source": [
    "## Summary Statistics"
   ]
  },
  {
   "cell_type": "code",
   "execution_count": 30,
   "id": "3498a432",
   "metadata": {},
   "outputs": [
    {
     "name": "stdout",
     "output_type": "stream",
     "text": [
      "DIMENSIONS:\n",
      "  Customers: 107,776\n",
      "  Restaurants: 19,995\n",
      "  Delivery Partners: 15,000\n",
      "  Menu Items: 342,671\n",
      "\n",
      "FACTS:\n",
      "  Orders: 149,166\n",
      "  Order Items: 342,994\n",
      "  Ratings: 68,842\n",
      "  Delivery Records: 149,166\n",
      "\n",
      "  Cancelled Orders: 11,112 (7.4%)\n"
     ]
    }
   ],
   "source": [
    "print(\"DIMENSIONS:\")\n",
    "print(f\"  Customers: {len(df_customer):,}\")\n",
    "print(f\"  Restaurants: {len(df_restaurant):,}\")\n",
    "print(f\"  Delivery Partners: {len(df_delivery_partner):,}\")\n",
    "print(f\"  Menu Items: {len(df_menu_item):,}\")\n",
    "\n",
    "print(\"\\nFACTS:\")\n",
    "print(f\"  Orders: {len(df_orders):,}\")\n",
    "print(f\"  Order Items: {len(df_order_items):,}\")\n",
    "print(f\"  Ratings: {len(df_ratings):,}\")\n",
    "print(f\"  Delivery Records: {len(df_delivery_performance):,}\")\n",
    "\n",
    "if 'is_cancelled' in df_orders.columns:\n",
    "    cancelled = (df_orders['is_cancelled'] == 'Y').sum()\n",
    "    print(f\"\\n  Cancelled Orders: {cancelled:,} ({cancelled/len(df_orders)*100:.1f}%)\")"
   ]
  }
 ],
 "metadata": {
  "kernelspec": {
   "display_name": ".venv (3.12.3)",
   "language": "python",
   "name": "python3"
  },
  "language_info": {
   "codemirror_mode": {
    "name": "ipython",
    "version": 3
   },
   "file_extension": ".py",
   "mimetype": "text/x-python",
   "name": "python",
   "nbconvert_exporter": "python",
   "pygments_lexer": "ipython3",
   "version": "3.12.3"
  }
 },
 "nbformat": 4,
 "nbformat_minor": 5
}
